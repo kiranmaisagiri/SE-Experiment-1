{
  "nbformat": 4,
  "nbformat_minor": 0,
  "metadata": {
    "colab": {
      "provenance": [],
      "authorship_tag": "ABX9TyO25eFTZ3v9+lEoa1XIIyhp",
      "include_colab_link": true
    },
    "kernelspec": {
      "name": "python3",
      "display_name": "Python 3"
    },
    "language_info": {
      "name": "python"
    }
  },
  "cells": [
    {
      "cell_type": "markdown",
      "metadata": {
        "id": "view-in-github",
        "colab_type": "text"
      },
      "source": [
        "<a href=\"https://colab.research.google.com/github/kiranmaisagiri/SE-Experiment-1/blob/main/SE_Experiment1.ipynb\" target=\"_parent\"><img src=\"https://colab.research.google.com/assets/colab-badge.svg\" alt=\"Open In Colab\"/></a>"
      ]
    },
    {
      "cell_type": "code",
      "source": [
        "def calculate_weather(temperature, humidity, wind_speed):\n",
        "    W = 0.5 * temperature**2 - 0.2 * humidity + 0.1 * wind_speed - 15\n",
        "    return W\n",
        "\n",
        "def map_to_category(W):\n",
        "    if W > 10000:\n",
        "        return \"Sunny\"\n",
        "    elif 2000 <= W <= 10000:\n",
        "        return \"Cloudy\"\n",
        "    elif 500 <= W < 2000:\n",
        "        return \"Rainy\"\n",
        "    else:\n",
        "        return \"Stormy\"\n",
        "\n",
        "def stage_1_hard_coding():\n",
        "    print(\"Stage 1: Hard-coding variables\")\n",
        "\n",
        "    temperature = 25\n",
        "    humidity = 60\n",
        "    wind_speed = 10\n",
        "\n",
        "    W = calculate_weather(temperature, humidity, wind_speed)\n",
        "\n",
        "    weather_category = map_to_category(W)\n",
        "\n",
        "    print(f\"Weather Prediction: {weather_category}\")\n",
        "    print(f\"Calculated Weather Value (W): {W:.2f}\\n\")\n",
        "\n",
        "stage_1_hard_coding()\n"
      ],
      "metadata": {
        "colab": {
          "base_uri": "https://localhost:8080/"
        },
        "id": "GY4uFr_LnO0J",
        "outputId": "351f48d4-be0a-45ad-9243-4a0cbd9827d7"
      },
      "execution_count": 13,
      "outputs": [
        {
          "output_type": "stream",
          "name": "stdout",
          "text": [
            "Stage 1: Hard-coding variables\n",
            "Weather Prediction: Stormy\n",
            "Calculated Weather Value (W): 286.50\n",
            "\n"
          ]
        }
      ]
    },
    {
      "cell_type": "code",
      "source": [
        "def calculate_weather(temperature, humidity, wind_speed):\n",
        "\n",
        "    W = 0.5 * temperature**2 - 0.2 * humidity + 0.1 * wind_speed - 15\n",
        "    return W\n",
        "\n",
        "def map_to_category(W):\n",
        "\n",
        "    if W > 10000:\n",
        "        return \"Sunny\"\n",
        "    elif 2000 <= W <= 10000:\n",
        "        return \"Cloudy\"\n",
        "    elif 500 <= W < 2000:\n",
        "        return \"Rainy\"\n",
        "    else:\n",
        "        return \"Stormy\"\n",
        "\n",
        "def stage_2_keyboard_input():\n",
        "\n",
        "    print(\"Stage 2: Keyboard input\")\n",
        "\n",
        "    temperature = float(input(\"Enter the temperature (°C): \"))\n",
        "    humidity = float(input(\"Enter the humidity (%): \"))\n",
        "    wind_speed = float(input(\"Enter the wind speed (km/h): \"))\n",
        "\n",
        "    W = calculate_weather(temperature, humidity, wind_speed)\n",
        "\n",
        "    weather_category = map_to_category(W)\n",
        "\n",
        "    print(f\"Weather Prediction: {weather_category}\")\n",
        "    print(f\"Calculated Weather Value (W): {W:.2f}\\n\")\n",
        "\n",
        "stage_2_keyboard_input()\n"
      ],
      "metadata": {
        "colab": {
          "base_uri": "https://localhost:8080/"
        },
        "id": "DhqgeYCSoRmr",
        "outputId": "db09207d-b22c-4a26-8bfa-cd2cf97d7a6c"
      },
      "execution_count": 14,
      "outputs": [
        {
          "output_type": "stream",
          "name": "stdout",
          "text": [
            "Stage 2: Keyboard input\n",
            "Enter the temperature (°C): 50\n",
            "Enter the humidity (%): 30\n",
            "Enter the wind speed (km/h): 23\n",
            "Weather Prediction: Rainy\n",
            "Calculated Weather Value (W): 1231.30\n",
            "\n"
          ]
        }
      ]
    },
    {
      "cell_type": "code",
      "source": [
        "def calculate_weather(temperature, humidity, wind_speed):\n",
        "\n",
        "    W = 0.5 * temperature**2 - 0.2 * humidity + 0.1 * wind_speed - 15\n",
        "    return W\n",
        "\n",
        "def map_to_category(W):\n",
        "\n",
        "    if W > 10000:\n",
        "        return \"Sunny\"\n",
        "    elif 2000 <= W <= 10000:\n",
        "        return \"Cloudy\"\n",
        "    elif 500 <= W < 2000:\n",
        "        return \"Rainy\"\n",
        "    else:\n",
        "        return \"Stormy\"\n",
        "\n",
        "def process_file(input_file):\n",
        "\n",
        "    print(\"Stage 3: Reading from file\")\n",
        "\n",
        "    try:\n",
        "\n",
        "        with open(input_file, 'r') as file:\n",
        "            for line in file:\n",
        "                if line.strip():\n",
        "                    try:\n",
        "                        temperature, humidity, wind_speed = map(float, line.split())\n",
        "                        W = calculate_weather(temperature, humidity, wind_speed)\n",
        "                        weather_category = map_to_category(W)\n",
        "\n",
        "                        print(f\"Temperature: {temperature}°C, Humidity: {humidity}%, Wind Speed: {wind_speed} km/h\")\n",
        "                        print(f\"Weather Prediction: {weather_category}\")\n",
        "                        print(f\"Calculated Weather Value (W): {W:.2f}\\n\")\n",
        "                    except ValueError:\n",
        "                        print(f\"Skipping invalid line: {line.strip()}\")\n",
        "    except FileNotFoundError:\n",
        "        print(f\"Error: The file '{input_file}' was not found.\")\n",
        "\n",
        "process_file('input_data.txt')\n"
      ],
      "metadata": {
        "colab": {
          "base_uri": "https://localhost:8080/"
        },
        "id": "tzASWEARoT2i",
        "outputId": "f7ccb50e-ad4c-4a78-c856-5247f682c474"
      },
      "execution_count": 15,
      "outputs": [
        {
          "output_type": "stream",
          "name": "stdout",
          "text": [
            "Stage 3: Reading from file\n",
            "Temperature: 25.0°C, Humidity: 60.0%, Wind Speed: 10.0 km/h\n",
            "Weather Prediction: Stormy\n",
            "Calculated Weather Value (W): 286.50\n",
            "\n",
            "Temperature: 80.0°C, Humidity: 40.0%, Wind Speed: 25.0 km/h\n",
            "Weather Prediction: Cloudy\n",
            "Calculated Weather Value (W): 3179.50\n",
            "\n",
            "Temperature: 150.0°C, Humidity: 30.0%, Wind Speed: 15.0 km/h\n",
            "Weather Prediction: Sunny\n",
            "Calculated Weather Value (W): 11230.50\n",
            "\n"
          ]
        }
      ]
    },
    {
      "cell_type": "code",
      "source": [
        "def calculate_weather(temperature, humidity, wind_speed):\n",
        "    W = 0.5 * temperature**2 - 0.2 * humidity + 0.1 * wind_speed - 15\n",
        "    return W\n",
        "\n",
        "def map_to_category(W):\n",
        "    if W > 10000:\n",
        "        return \"Sunny\"\n",
        "    elif 2000 <= W <= 10000:\n",
        "        return \"Cloudy\"\n",
        "    elif 500 <= W < 2000:\n",
        "        return \"Rainy\"\n",
        "    else:\n",
        "        return \"Stormy\"\n",
        "\n",
        "def stage_4_single_input_from_file(input_file):\n",
        "    print(\"Stage 4: Processing a single set of input from file\")\n",
        "\n",
        "    try:\n",
        "        with open(input_file, 'r') as file:\n",
        "            line = file.readline()\n",
        "            if line.strip():\n",
        "                try:\n",
        "                    temperature, humidity, wind_speed = map(float, line.split())\n",
        "                    W = calculate_weather(temperature, humidity, wind_speed)\n",
        "                    weather_category = map_to_category(W)\n",
        "                    print(f\"Temperature: {temperature}°C, Humidity: {humidity}%, Wind Speed: {wind_speed} km/h\")\n",
        "                    print(f\"Weather Prediction: {weather_category}\")\n",
        "                    print(f\"Calculated Weather Value (W): {W:.2f}\\n\")\n",
        "                except ValueError:\n",
        "                    print(f\"Skipping invalid line: {line.strip()}\")\n",
        "    except FileNotFoundError:\n",
        "        print(f\"Error: The file '{input_file}' was not found.\")\n",
        "stage_4_single_input_from_file('input_data.txt')\n"
      ],
      "metadata": {
        "colab": {
          "base_uri": "https://localhost:8080/"
        },
        "id": "m8mgZZNEoW9i",
        "outputId": "d0b35be7-3a0a-404e-a05f-b8ee4263aa43"
      },
      "execution_count": 16,
      "outputs": [
        {
          "output_type": "stream",
          "name": "stdout",
          "text": [
            "Stage 4: Processing a single set of input from file\n",
            "Temperature: 25.0°C, Humidity: 60.0%, Wind Speed: 10.0 km/h\n",
            "Weather Prediction: Stormy\n",
            "Calculated Weather Value (W): 286.50\n",
            "\n"
          ]
        }
      ]
    },
    {
      "cell_type": "code",
      "source": [
        "def calculate_weather(temperature, humidity, wind_speed):\n",
        "\n",
        "    W = 0.5 * temperature**2 - 0.2 * humidity + 0.1 * wind_speed - 15\n",
        "    return W\n",
        "\n",
        "def map_to_category(W):\n",
        "    if W > 10000:\n",
        "        return \"Sunny\"\n",
        "    elif 2000 <= W <= 10000:\n",
        "        return \"Cloudy\"\n",
        "    elif 500 <= W < 2000:\n",
        "        return \"Rainy\"\n",
        "    else:\n",
        "        return \"Stormy\"\n",
        "\n",
        "def stage_5_multiple_inputs_from_file(input_file):\n",
        "    print(\"Stage 5: Processing multiple sets of input from file\")\n",
        "\n",
        "    try:\n",
        "        with open(input_file, 'r') as file:\n",
        "            for line in file:\n",
        "                if line.strip():\n",
        "                    try:\n",
        "                        temperature, humidity, wind_speed = map(float, line.split())\n",
        "                        W = calculate_weather(temperature, humidity, wind_speed)\n",
        "                        weather_category = map_to_category(W)\n",
        "                        print(f\"Temperature: {temperature}°C, Humidity: {humidity}%, Wind Speed: {wind_speed} km/h\")\n",
        "                        print(f\"Weather Prediction: {weather_category}\")\n",
        "                        print(f\"Calculated Weather Value (W): {W:.2f}\\n\")\n",
        "                    except ValueError:\n",
        "                        print(f\"Skipping invalid line: {line.strip()}\")\n",
        "    except FileNotFoundError:\n",
        "        print(f\"Error: The file '{input_file}' was not found.\")\n",
        "stage_5_multiple_inputs_from_file('input_data.txt')\n"
      ],
      "metadata": {
        "colab": {
          "base_uri": "https://localhost:8080/"
        },
        "id": "WYUBY3Q9oZIS",
        "outputId": "4f9e7d6e-6eeb-4554-9372-150c71221510"
      },
      "execution_count": 20,
      "outputs": [
        {
          "output_type": "stream",
          "name": "stdout",
          "text": [
            "Stage 5: Processing multiple sets of input from file\n",
            "Temperature: 25.0°C, Humidity: 60.0%, Wind Speed: 10.0 km/h\n",
            "Weather Prediction: Stormy\n",
            "Calculated Weather Value (W): 286.50\n",
            "\n",
            "Temperature: 80.0°C, Humidity: 40.0%, Wind Speed: 25.0 km/h\n",
            "Weather Prediction: Cloudy\n",
            "Calculated Weather Value (W): 3179.50\n",
            "\n",
            "Temperature: 150.0°C, Humidity: 30.0%, Wind Speed: 15.0 km/h\n",
            "Weather Prediction: Sunny\n",
            "Calculated Weather Value (W): 11230.50\n",
            "\n"
          ]
        }
      ]
    }
  ]
}